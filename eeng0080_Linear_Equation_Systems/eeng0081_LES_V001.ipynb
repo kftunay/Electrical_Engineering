{
 "cells": [
  {
   "cell_type": "markdown",
   "id": "8db9f728-91b4-4d9d-921a-61b7768be6cb",
   "metadata": {
    "tags": []
   },
   "source": [
    "# Solving Linear Equation Systems with Gauß Elimination "
   ]
  },
  {
   "cell_type": "markdown",
   "id": "52a17960-20cf-41dd-9f97-1b9fc5889382",
   "metadata": {},
   "source": [
    "* Learn How to Write Markdown & LaTeX in The Jupyter Notebook<br>https://towardsdatascience.com/write-markdown-latex-in-the-jupyter-notebook-10985edb91fd\n",
    "* How to programmatically generate markdown output in Jupyter notebooks?<br>https://stackoverflow.com/questions/36288670/how-to-programmatically-generate-markdown-output-in-jupyter-notebooks"
   ]
  },
  {
   "cell_type": "code",
   "execution_count": 22,
   "id": "dc7260eb-4366-4c02-96c1-76ec610943cd",
   "metadata": {},
   "outputs": [],
   "source": [
    "import numpy as np\n",
    "from IPython.display import display, Markdown, Latex, Math"
   ]
  },
  {
   "cell_type": "code",
   "execution_count": 26,
   "id": "d70689b5-af68-4739-a855-d38271df5d1f",
   "metadata": {},
   "outputs": [
    {
     "data": {
      "text/markdown": [
       "some markdown $\\phi$"
      ],
      "text/plain": [
       "<IPython.core.display.Markdown object>"
      ]
     },
     "metadata": {},
     "output_type": "display_data"
    },
    {
     "data": {
      "text/markdown": [
       "*some markdown* $\\phi$"
      ],
      "text/plain": [
       "<IPython.core.display.Markdown object>"
      ]
     },
     "metadata": {},
     "output_type": "display_data"
    },
    {
     "data": {
      "text/markdown": [
       "**some markdown** $\\phi$"
      ],
      "text/plain": [
       "<IPython.core.display.Markdown object>"
      ]
     },
     "metadata": {},
     "output_type": "display_data"
    }
   ],
   "source": [
    "display(Markdown('some markdown $\\phi$'))\n",
    "display(Markdown('*some markdown* $\\phi$'))\n",
    "display(Markdown('**some markdown** $\\phi$'))"
   ]
  },
  {
   "cell_type": "code",
   "execution_count": 27,
   "id": "c3625e54-559e-42a9-9650-79c342258cc3",
   "metadata": {},
   "outputs": [
    {
     "data": {
      "text/latex": [
       "$\\displaystyle F(k) = \\int_{-\\infty}^{\\infty} f(x) e^{2\\pi i k} dx$"
      ],
      "text/plain": [
       "<IPython.core.display.Math object>"
      ]
     },
     "metadata": {},
     "output_type": "display_data"
    }
   ],
   "source": [
    "#from IPython.display import display, Math, Latex\n",
    "display(Math(r'F(k) = \\int_{-\\infty}^{\\infty} f(x) e^{2\\pi i k} dx'))"
   ]
  },
  {
   "cell_type": "markdown",
   "id": "7b9631f8-8779-4ae4-8f56-b105fadd8399",
   "metadata": {},
   "source": [
    "The following manual markdown code displays a matrix:\n",
    "```\n",
    "$\n",
    "\\begin{pmatrix}\n",
    "1 & 2 & 3\\\\\n",
    "a & b & c\n",
    "\\end{pmatrix}\n",
    "$\n",
    "```\n",
    "\n",
    "The rendered result:\n",
    "\n",
    "$\n",
    "\\begin{pmatrix}\n",
    "1 & 2 & 3\\\\\n",
    "a & b & c\n",
    "\\end{pmatrix}\n",
    "$"
   ]
  },
  {
   "cell_type": "markdown",
   "id": "802dcda7-1348-4111-83f5-6334c2e93258",
   "metadata": {},
   "source": [
    "**Markdown output can be created by code!**"
   ]
  },
  {
   "cell_type": "code",
   "execution_count": 29,
   "id": "a4890725-6287-4f8c-bdc9-4d714caf6638",
   "metadata": {},
   "outputs": [
    {
     "data": {
      "text/markdown": [
       "$\\begin{pmatrix}1 & 2 & 3\\\\a & b & c\\end{pmatrix}$"
      ],
      "text/plain": [
       "<IPython.core.display.Markdown object>"
      ]
     },
     "metadata": {},
     "output_type": "display_data"
    }
   ],
   "source": [
    "s = r\"1 & 2 & 3\\\\a & b & c\"\n",
    "sp = r\"$\\begin{pmatrix}\" + s + r\"\\end{pmatrix}$\"\n",
    "display(Markdown(sp))"
   ]
  },
  {
   "cell_type": "markdown",
   "id": "fbf66f3b-cdc2-4d3b-95cc-44b59abc015c",
   "metadata": {},
   "source": [
    "## An Example Linear Equation System ##"
   ]
  },
  {
   "cell_type": "code",
   "execution_count": 30,
   "id": "d32b21a8-b5f3-45e9-9b01-ac3ecb0c1970",
   "metadata": {},
   "outputs": [
    {
     "data": {
      "text/plain": [
       "array([[ -1.,  -1.,   1.,   0.],\n",
       "       [ -6.,   3.,   0., -24.],\n",
       "       [  0.,  -3.,  -6., -12.]])"
      ]
     },
     "execution_count": 30,
     "metadata": {},
     "output_type": "execute_result"
    }
   ],
   "source": [
    "#M = np.array([[1., 2, 3, 4],[5, 6, 7, 8],[9, 10, 11, 12]])\n",
    "M = np.array(\n",
    "    [\n",
    "        [-1., -1, 1, 0],\n",
    "        [-6, 3, 0, -24],\n",
    "        [0, -3, -6, -12]\n",
    "    ])\n",
    "\n",
    "M"
   ]
  },
  {
   "cell_type": "code",
   "execution_count": 5,
   "id": "77dba2ae-847f-4fdf-a935-b836a4479c19",
   "metadata": {},
   "outputs": [
    {
     "name": "stdout",
     "output_type": "stream",
     "text": [
      "[[ -1.  -1.   1.   0.]\n",
      " [ -6.   3.   0. -24.]\n",
      " [  0.  -3.  -6. -12.]]\n"
     ]
    }
   ],
   "source": [
    "print(M)"
   ]
  },
  {
   "cell_type": "markdown",
   "id": "9ff0b1dd-3f6f-4f5a-9469-0e8c66bfce1d",
   "metadata": {},
   "source": [
    "### Nice Matrix Rendering in Markdown ###"
   ]
  },
  {
   "cell_type": "code",
   "execution_count": 32,
   "id": "eded46e9-80f8-489e-acfc-6ab61881bf46",
   "metadata": {},
   "outputs": [],
   "source": [
    "def Mat2MD(M, name=\"\", idx=\"\", fmt=\"\"):\n",
    "    matrix_string = \"\"\n",
    "    for r in M:\n",
    "        if matrix_string: matrix_string += r\" \\\\ \"\n",
    "#        fmt_string = f\"{x}\"\n",
    "        matrix_string += \" & \".join([f\"{x:{fmt}}\" for x in r])\n",
    "    if name:\n",
    "        if idx:\n",
    "            Mstr = name + \"_\" + idx + \"=\"\n",
    "        else:\n",
    "            Mstr = name + \"=\"\n",
    "    else:\n",
    "        Mstr = \"\"\n",
    "\n",
    "    return(Mstr + r\"\\begin{pmatrix}\" + matrix_string + r\"\\end{pmatrix}\")"
   ]
  },
  {
   "cell_type": "code",
   "execution_count": 33,
   "id": "de5c10f2-c17d-4143-8519-aebaa39a1a0b",
   "metadata": {},
   "outputs": [
    {
     "data": {
      "text/latex": [
       "$\\displaystyle \\begin{pmatrix}-1.00 & -1.00 & 1.00 & 0.00 \\\\ -6.00 & 3.00 & 0.00 & -24.00 \\\\ 0.00 & -3.00 & -6.00 & -12.00\\end{pmatrix}$"
      ],
      "text/plain": [
       "<IPython.core.display.Math object>"
      ]
     },
     "metadata": {},
     "output_type": "display_data"
    },
    {
     "data": {
      "text/latex": [
       "$\\displaystyle A=\\begin{pmatrix}-1.0 & -1.0 & 1.0 & 0.0 \\\\ -6.0 & 3.0 & 0.0 & -24.0 \\\\ 0.0 & -3.0 & -6.0 & -12.0\\end{pmatrix}$"
      ],
      "text/plain": [
       "<IPython.core.display.Math object>"
      ]
     },
     "metadata": {},
     "output_type": "display_data"
    },
    {
     "data": {
      "text/latex": [
       "$\\displaystyle M_1=\\begin{pmatrix}-1.0 & -1.0 & 1.0 & 0.0 \\\\ -6.0 & 3.0 & 0.0 & -24.0 \\\\ 0.0 & -3.0 & -6.0 & -12.0\\end{pmatrix}$"
      ],
      "text/plain": [
       "<IPython.core.display.Math object>"
      ]
     },
     "metadata": {},
     "output_type": "display_data"
    },
    {
     "data": {
      "text/latex": [
       "$\\displaystyle M_k=\\begin{pmatrix}-1.0 & -1.0 & 1.0 & 0.0 \\\\ -6.0 & 3.0 & 0.0 & -24.0 \\\\ 0.0 & -3.0 & -6.0 & -12.0\\end{pmatrix}$"
      ],
      "text/plain": [
       "<IPython.core.display.Math object>"
      ]
     },
     "metadata": {},
     "output_type": "display_data"
    }
   ],
   "source": [
    "display(Math(Mat2MD(M,fmt=\".2f\")))\n",
    "display(Math(Mat2MD(M,\"A\")))\n",
    "display(Math(Mat2MD(M,\"M\",\"1\")))\n",
    "display(Math(Mat2MD(M,\"M\",\"k\")))"
   ]
  },
  {
   "cell_type": "markdown",
   "id": "d40abcf5-fb07-4a67-97eb-788cc506a86a",
   "metadata": {},
   "source": [
    "### Nice LES Rendering for Gauß Elimination ###"
   ]
  },
  {
   "cell_type": "code",
   "execution_count": 34,
   "id": "3fc29d1e-68ee-465e-bb04-e63fcc2f14f9",
   "metadata": {},
   "outputs": [],
   "source": [
    "def Gauss2MD(M, name=\"\", idx=\"\", fmt=\"g\"):\n",
    "\n",
    "    matrix_string = \"\"\n",
    "    for r in M:\n",
    "#        if matrix_string: matrix_string += r\" \\\\ \"\n",
    "        matrix_string += \" & \".join([f\"{x:{fmt}}\" for x in r]) + r\"\\\\\"\n",
    "    if name:\n",
    "        if idx:\n",
    "            Mstr = name + \"_\" + idx + \"=\"\n",
    "        else:\n",
    "            Mstr = name + \"=\"\n",
    "    else:\n",
    "        Mstr = \"\"\n",
    "        \n",
    "    (m,n) = M.shape\n",
    "    fmt = \"{\"+(n-1)*\"c\"+\"|\"+\"c\"+\"}\"\n",
    "    \n",
    "    return(Mstr + r\"\\left(\\begin{array}\" + fmt + matrix_string + r\"\\end{array}\\right)\")"
   ]
  },
  {
   "cell_type": "code",
   "execution_count": 35,
   "id": "47d66fc6-9d9a-4473-b351-bf4844e99720",
   "metadata": {},
   "outputs": [
    {
     "data": {
      "text/latex": [
       "$\\displaystyle \\left(\\begin{array}{ccc|c}-1.0 & -1.0 & 1.0 & 0.0\\\\-6.0 & 3.0 & 0.0 & -24.0\\\\0.0 & -3.0 & -6.0 & -12.0\\\\\\end{array}\\right)$"
      ],
      "text/plain": [
       "<IPython.core.display.Math object>"
      ]
     },
     "metadata": {},
     "output_type": "display_data"
    },
    {
     "data": {
      "text/latex": [
       "$\\displaystyle A=\\left(\\begin{array}{ccc|c}-1.000 & -1.000 & 1.000 & 0.000\\\\-6.000 & 3.000 & 0.000 & -24.000\\\\0.000 & -3.000 & -6.000 & -12.000\\\\\\end{array}\\right)$"
      ],
      "text/plain": [
       "<IPython.core.display.Math object>"
      ]
     },
     "metadata": {},
     "output_type": "display_data"
    },
    {
     "data": {
      "text/latex": [
       "$\\displaystyle M_1=\\left(\\begin{array}{ccc|c}-1.00e+00 & -1.00e+00 & 1.00e+00 & 0.00e+00\\\\-6.00e+00 & 3.00e+00 & 0.00e+00 & -2.40e+01\\\\0.00e+00 & -3.00e+00 & -6.00e+00 & -1.20e+01\\\\\\end{array}\\right)$"
      ],
      "text/plain": [
       "<IPython.core.display.Math object>"
      ]
     },
     "metadata": {},
     "output_type": "display_data"
    },
    {
     "data": {
      "text/latex": [
       "$\\displaystyle M_k=\\left(\\begin{array}{ccc|c}-1 & -1 & 1 & 0\\\\-6 & 3 & 0 & -24\\\\0 & -3 & -6 & -12\\\\\\end{array}\\right)$"
      ],
      "text/plain": [
       "<IPython.core.display.Math object>"
      ]
     },
     "metadata": {},
     "output_type": "display_data"
    }
   ],
   "source": [
    "display(Math(Gauss2MD(M,fmt=\"\")))\n",
    "display(Math(Gauss2MD(M,\"A\",fmt=\".3f\")))\n",
    "display(Math(Gauss2MD(M,\"M\",\"1\",fmt=\".2e\")))\n",
    "display(Math(Gauss2MD(M,\"M\",\"k\")))"
   ]
  },
  {
   "cell_type": "markdown",
   "id": "18559733-2481-40c6-8a69-b1c9e239f14b",
   "metadata": {},
   "source": [
    "### The Pivoting Function to Create Row Echeon Form ###"
   ]
  },
  {
   "cell_type": "code",
   "execution_count": 36,
   "id": "62090051-db00-43f2-b940-88fc7451c442",
   "metadata": {},
   "outputs": [],
   "source": [
    "def Gauss_Pivot(M,from_row,to_row,pivot_col,debug=False):\n",
    "    MM=M.copy()\n",
    "    (m,n)=MM.shape\n",
    "    r = MM[from_row][pivot_col]/MM[to_row][pivot_col]\n",
    "    if debug:\n",
    "        print(MM[from_row])\n",
    "        print(MM[to_row])\n",
    "        print(MM[from_row][pivot_col])\n",
    "        print(MM[to_row][pivot_col])    \n",
    "        print(r)\n",
    "    if from_row == to_row:\n",
    "        MM[to_row] = MM[to_row]/MM[from_row][pivot_col]\n",
    "    else:\n",
    "        MM[to_row] = MM[from_row] - r*MM[to_row]\n",
    "    return(MM)"
   ]
  },
  {
   "cell_type": "code",
   "execution_count": 37,
   "id": "86375717-ea55-40a1-a7a3-ffea2340fd50",
   "metadata": {},
   "outputs": [
    {
     "name": "stdout",
     "output_type": "stream",
     "text": [
      "[[ -1.  -1.   1.   0.]\n",
      " [ -6.   3.   0. -24.]\n",
      " [  0.  -3.  -6. -12.]]\n"
     ]
    },
    {
     "data": {
      "text/latex": [
       "$\\displaystyle M=\\left(\\begin{array}{ccc|c}-1 & -1 & 1 & 0\\\\-6 & 3 & 0 & -24\\\\0 & -3 & -6 & -12\\\\\\end{array}\\right)$"
      ],
      "text/plain": [
       "<IPython.core.display.Math object>"
      ]
     },
     "metadata": {},
     "output_type": "display_data"
    }
   ],
   "source": [
    "#M = np.array([[1., 2, 3, 4],[5, 6, 7, 8],[9, 10, 11, 12]])\n",
    "print(M)\n",
    "display(Math(Gauss2MD(M,\"M\")))"
   ]
  },
  {
   "cell_type": "code",
   "execution_count": 38,
   "id": "36c2f1ac-337a-4211-97b0-6bdd0996698a",
   "metadata": {},
   "outputs": [
    {
     "data": {
      "text/latex": [
       "$\\displaystyle M_1=\\left(\\begin{array}{ccc|c}-1 & -1 & 1 & 0\\\\0 & -1.5 & 1 & 4\\\\0 & -3 & -6 & -12\\\\\\end{array}\\right)$"
      ],
      "text/plain": [
       "<IPython.core.display.Math object>"
      ]
     },
     "metadata": {},
     "output_type": "display_data"
    }
   ],
   "source": [
    "M1 = Gauss_Pivot(M,0,1,0)\n",
    "display(Math(Gauss2MD(M1,\"M_1\",fmt=\"g\")))"
   ]
  },
  {
   "cell_type": "code",
   "execution_count": 39,
   "id": "6c39d3f1-e548-404f-9b41-dbcf46e5b6cc",
   "metadata": {},
   "outputs": [
    {
     "data": {
      "text/latex": [
       "$\\displaystyle M_2=\\left(\\begin{array}{ccc|c}-1.00 & -1.00 & 1.00 & 0.00\\\\0.00 & -1.50 & 1.00 & 4.00\\\\0.00 & 0.00 & 4.00 & 10.00\\\\\\end{array}\\right)$"
      ],
      "text/plain": [
       "<IPython.core.display.Math object>"
      ]
     },
     "metadata": {},
     "output_type": "display_data"
    }
   ],
   "source": [
    "M2 = Gauss_Pivot(M1,1,2,1)\n",
    "display(Math(Gauss2MD(M2,\"M_2\",fmt=\".2f\")))"
   ]
  },
  {
   "cell_type": "code",
   "execution_count": 40,
   "id": "f4ccef67-39b9-4d4f-a324-1ec42173f58d",
   "metadata": {},
   "outputs": [
    {
     "data": {
      "text/latex": [
       "$\\displaystyle M_3=\\left(\\begin{array}{ccc|c}-1.00 & -1.00 & 1.00 & 0.00\\\\0.00 & 6.00 & 0.00 & -6.00\\\\0.00 & 0.00 & 4.00 & 10.00\\\\\\end{array}\\right)$"
      ],
      "text/plain": [
       "<IPython.core.display.Math object>"
      ]
     },
     "metadata": {},
     "output_type": "display_data"
    }
   ],
   "source": [
    "M3 = Gauss_Pivot(M2,2,1,2)\n",
    "#print(M4)\n",
    "display(Math(Gauss2MD(M3,\"M_3\",fmt=\".2f\")))"
   ]
  },
  {
   "cell_type": "code",
   "execution_count": 41,
   "id": "e6c1306d-7db7-4091-a2ff-acef90d30ce0",
   "metadata": {},
   "outputs": [
    {
     "data": {
      "text/latex": [
       "$\\displaystyle M_4=\\left(\\begin{array}{ccc|c}4.00 & 4.00 & 0.00 & 10.00\\\\0.00 & 6.00 & 0.00 & -6.00\\\\0.00 & 0.00 & 4.00 & 10.00\\\\\\end{array}\\right)$"
      ],
      "text/plain": [
       "<IPython.core.display.Math object>"
      ]
     },
     "metadata": {},
     "output_type": "display_data"
    }
   ],
   "source": [
    "M4 = Gauss_Pivot(M3,2,0,2)\n",
    "#print(M4)\n",
    "display(Math(Gauss2MD(M4,\"M_4\",fmt=\".2f\")))"
   ]
  },
  {
   "cell_type": "code",
   "execution_count": 42,
   "id": "e0e8e6b5-13b8-4cf5-b6ff-fde0f849727a",
   "metadata": {},
   "outputs": [
    {
     "data": {
      "text/latex": [
       "$\\displaystyle M_5=\\left(\\begin{array}{ccc|c}-6.00 & 0.00 & 0.00 & -21.00\\\\0.00 & 6.00 & 0.00 & -6.00\\\\0.00 & 0.00 & 4.00 & 10.00\\\\\\end{array}\\right)$"
      ],
      "text/plain": [
       "<IPython.core.display.Math object>"
      ]
     },
     "metadata": {},
     "output_type": "display_data"
    }
   ],
   "source": [
    "M5 = Gauss_Pivot(M4,1,0,1)\n",
    "#print(M4)\n",
    "display(Math(Gauss2MD(M5,\"M_5\",fmt=\".2f\")))"
   ]
  },
  {
   "cell_type": "code",
   "execution_count": 18,
   "id": "1f4e8c3d-54c3-454a-b2f5-7541a153c21b",
   "metadata": {},
   "outputs": [
    {
     "data": {
      "text/latex": [
       "$\\displaystyle M_6=\\left(\\begin{array}{ccc|c}1.00 & -0.00 & -0.00 & 3.50\\\\0.00 & 6.00 & 0.00 & -6.00\\\\0.00 & 0.00 & 4.00 & 10.00\\\\\\end{array}\\right)$"
      ],
      "text/plain": [
       "<IPython.core.display.Math object>"
      ]
     },
     "metadata": {},
     "output_type": "display_data"
    }
   ],
   "source": [
    "M6 = Gauss_Pivot(M5,0,0,0)\n",
    "display(Math(Gauss2MD(M6,\"M_6\",fmt=\".2f\")))"
   ]
  },
  {
   "cell_type": "code",
   "execution_count": 19,
   "id": "1e7e5381-f311-497b-a203-a5d35dc954b4",
   "metadata": {},
   "outputs": [
    {
     "data": {
      "text/latex": [
       "$\\displaystyle M_7=\\left(\\begin{array}{ccc|c}1.00 & -0.00 & -0.00 & 3.50\\\\0.00 & 1.00 & 0.00 & -1.00\\\\0.00 & 0.00 & 4.00 & 10.00\\\\\\end{array}\\right)$"
      ],
      "text/plain": [
       "<IPython.core.display.Math object>"
      ]
     },
     "metadata": {},
     "output_type": "display_data"
    }
   ],
   "source": [
    "M7 = Gauss_Pivot(M6,1,1,1)\n",
    "display(Math(Gauss2MD(M7,\"M_7\",fmt=\".2f\")))"
   ]
  },
  {
   "cell_type": "code",
   "execution_count": 20,
   "id": "c837c307-ae5f-4c59-bbfd-b7eef974fd53",
   "metadata": {},
   "outputs": [
    {
     "data": {
      "text/latex": [
       "$\\displaystyle M_8=\\left(\\begin{array}{ccc|c}1.00 & -0.00 & -0.00 & 3.50\\\\0.00 & 1.00 & 0.00 & -1.00\\\\0.00 & 0.00 & 1.00 & 2.50\\\\\\end{array}\\right)$"
      ],
      "text/plain": [
       "<IPython.core.display.Math object>"
      ]
     },
     "metadata": {},
     "output_type": "display_data"
    }
   ],
   "source": [
    "M8 = Gauss_Pivot(M7,2,2,2)\n",
    "display(Math(Gauss2MD(M8,\"M_8\",fmt=\".2f\")))"
   ]
  },
  {
   "cell_type": "code",
   "execution_count": null,
   "id": "a20de639-a4e4-4293-94d8-59f2becfbb19",
   "metadata": {},
   "outputs": [],
   "source": []
  }
 ],
 "metadata": {
  "kernelspec": {
   "display_name": "Python 3 (ipykernel)",
   "language": "python",
   "name": "python3"
  },
  "language_info": {
   "codemirror_mode": {
    "name": "ipython",
    "version": 3
   },
   "file_extension": ".py",
   "mimetype": "text/x-python",
   "name": "python",
   "nbconvert_exporter": "python",
   "pygments_lexer": "ipython3",
   "version": "3.9.13"
  }
 },
 "nbformat": 4,
 "nbformat_minor": 5
}
