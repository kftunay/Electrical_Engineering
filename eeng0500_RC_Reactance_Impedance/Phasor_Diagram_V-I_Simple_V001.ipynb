{
 "cells": [
  {
   "cell_type": "markdown",
   "id": "7e7c7c16-56de-4b44-b949-66fe5d047f8e",
   "metadata": {},
   "source": [
    "# Simple Time-Dependent Phasor Diagram of Current and Voltage with Variable Phase Difference "
   ]
  },
  {
   "cell_type": "code",
   "execution_count": 1,
   "id": "09c23ff0-b12e-4e9e-8ec6-ef373f5c3e31",
   "metadata": {
    "tags": []
   },
   "outputs": [],
   "source": [
    "import numpy as np\n",
    "from numpy import pi, sqrt, sin, cos, tan, exp, log, log10, real, imag, abs, angle\n",
    "import matplotlib.pyplot as plt\n",
    "from ipywidgets import interactive"
   ]
  },
  {
   "cell_type": "markdown",
   "id": "b0e07ad3-f80d-4731-ab0b-53e6a410bd0a",
   "metadata": {},
   "source": [
    "## Auxiliary Plot Function to Draw Complex Numbers as Vectors in 2D "
   ]
  },
  {
   "cell_type": "code",
   "execution_count": 2,
   "id": "90b22034-fc0b-4796-a1c8-8cd0af4fd41b",
   "metadata": {},
   "outputs": [],
   "source": [
    "def plot_cx_arrow_xy(ax, cx, cx_from=0, color=\"k\", linestyle=\"-\", width=1, label=\"\"):\n",
    "    from numpy import real, imag\n",
    "#    this_color = line[0].get_color() if color is None else color\n",
    "    ax.plot([real(cx_from),real(cx)], [imag(cx_from),imag(cx)], color, linewidth=width, linestyle=linestyle, label=label)\n",
    "    ax.annotate('', xytext=(real(cx_from),imag(cx_from)), xy=(real(cx),imag(cx)),\n",
    "                arrowprops=dict(facecolor=color, edgecolor=color, headlength=10*width, headwidth=6*width, shrink=0.999, width=0))\n",
    "    return"
   ]
  },
  {
   "cell_type": "markdown",
   "id": "bcb42f64-1434-433e-b8ac-0cc5a44e3847",
   "metadata": {},
   "source": [
    "## Plot the Angle between Complex Current and Real Axis as Wedge"
   ]
  },
  {
   "cell_type": "code",
   "execution_count": 3,
   "id": "8f9fd6d5-d4c4-45c5-b163-9cd59aed29b0",
   "metadata": {},
   "outputs": [],
   "source": [
    "def plot_cx_angle_wedge(ax, cx, cx_from=0, r=0.5, color=\"k\"):\n",
    "    from matplotlib.patches import Wedge\n",
    "    from numpy import real, imag, pi, rad2deg, angle\n",
    "    \n",
    "    wedge = Wedge((0, 0), r, angle(cx_from, deg=True), angle(cx, deg=True), ec=\"none\", alpha=0.4)\n",
    "    ax.add_patch(wedge)\n",
    "#    print(plt.gcf())\n",
    "\n",
    "    return"
   ]
  },
  {
   "cell_type": "markdown",
   "id": "a5c0fd53-d831-48a7-acdd-4a163d25fe36",
   "metadata": {},
   "source": [
    "## A General Complex Harmonic Function for AC Current and Voltage, Repectively "
   ]
  },
  {
   "cell_type": "code",
   "execution_count": 31,
   "id": "62b8e30d-6d80-40b2-9954-fa4c6896814f",
   "metadata": {},
   "outputs": [],
   "source": [
    "# Sinusoidal excitation voltage in complex notation.\n",
    "def AC(t,A0=1.,f=1.,phi=0.):\n",
    "    omega=2*pi*f\n",
    "    return A0*np.exp(1j*(omega*t+phi))"
   ]
  },
  {
   "cell_type": "markdown",
   "id": "8f332a82-8325-4abd-a66d-e52117592f31",
   "metadata": {},
   "source": [
    "## Define the Phasor Diagram and the Time Series Plot "
   ]
  },
  {
   "cell_type": "code",
   "execution_count": 32,
   "id": "b5dc7efe-cac9-49d0-aecc-eca94e37e5bf",
   "metadata": {},
   "outputs": [],
   "source": [
    "def plotterPhasorVIt(V0=2., I0=4., phi_deg=-90., f=1., t=0):\n",
    "    \n",
    "    tt=np.linspace(0.,1.,1001)\n",
    "    \n",
    "    phi=phi_deg/360.*2*pi\n",
    "    \n",
    "    omega = 2*pi*f\n",
    "    \n",
    "    T = 1/f\n",
    "\n",
    "    Ittr=real(AC(t=tt,A0=I0,f=f,phi=0))\n",
    "    Vttr=real(AC(t=tt,A0=V0,f=f,phi=phi))\n",
    "    \n",
    "    It=AC(t=t,A0=I0,f=f,phi=0)\n",
    "    Vt=AC(t=t,A0=V0,f=f,phi=phi)\n",
    "      \n",
    "    Itr = real(It)\n",
    "    Vtr = real(Vt)\n",
    "        \n",
    "    fig7,(ax71, ax72) = plt.subplots(1,2,figsize=(16,4), width_ratios=[1, 2.5], dpi = 136)\n",
    "\n",
    "    plot_cx_arrow_xy(ax71, It, color=\"r\", label=r\"$I(t)$\")\n",
    "    plot_cx_arrow_xy(ax71, Vt, color=\"b\", label=r\"$V(t)$\")\n",
    "\n",
    "    ax71.plot(0,0,\"x\",color=\"k\")\n",
    "    ax71.plot(Itr,0,\"o\",color=\"r\", alpha=0.5, label=r\"$\\mathrm{Re}\\,[I(t)]$\")\n",
    "    ax71.plot(Vtr,0,\"o\",color=\"b\", alpha=0.5, label=r\"$\\mathrm{Re}\\,[V(t)]$\")\n",
    "\n",
    "    ax71.plot([0,Itr],[0,0],\"--\",color=\"r\", alpha=0.3)      \n",
    "    ax71.plot([0,Vtr],[0,0],\"--\",color=\"b\", alpha=0.3)      \n",
    "\n",
    "    plot_cx_angle_wedge(ax71, It, r=0.7)\n",
    "\n",
    "    axlim = 5\n",
    " \n",
    "    ax71.set_aspect('equal', 'box')\n",
    "    ax71.set_xlim(-axlim,axlim)\n",
    "    ax71.set_ylim(-axlim,axlim)\n",
    "    ax71.set_xlabel(\"Real\")\n",
    "    ax71.set_ylabel(\"Imaginary\")    \n",
    "    ax71.grid(True)\n",
    "    ax71.legend(loc=\"lower left\")\n",
    "    ax71.set_title(\"Phasor Diag.: Complex I(t) and V(t)\")\n",
    "\n",
    "    ax72.plot(tt,Ittr,\"-\",color=\"r\")      \n",
    "    ax72.plot(tt,Vttr,\"-\",color=\"b\")      \n",
    "\n",
    "    ax72.plot(t,0,\"x\",color=\"k\")\n",
    "    ax72.plot(t,Itr,\"o\",color=\"r\", alpha=0.5, label=r\"$\\mathrm{Re}\\,\\left[I(t)\\right]$\")      \n",
    "    ax72.plot(t,Vtr,\"o\",color=\"b\", alpha=0.5, label=r\"$\\mathrm{Re}\\,\\left[V(t)\\right]$\")      \n",
    "\n",
    "    ax72.plot([t,t],[0,Itr],\"--\",color=\"r\", alpha=0.3)      \n",
    "    ax72.plot([t,t],[0,Vtr],\"--\",color=\"b\", alpha=0.3)      \n",
    "\n",
    "    ax72.set_xlim(0.,1.)\n",
    "    ax72.set_ylim(-axlim,axlim)\n",
    "    ax72.set_xlabel(\"Time t in s\")\n",
    "    ax72.set_ylabel(\"Real\")    \n",
    "    ax72.grid(True)\n",
    "    ax72.legend(loc=\"upper center\")\n",
    "    ax72.set_title(r\"Voltage and Current over Time (Real Parts of $V(t)$ and $I(t)$)\")\n",
    "    \n",
    "    plt.plot()"
   ]
  },
  {
   "cell_type": "markdown",
   "id": "4766ad16-a150-4252-8aa2-37f745e6bac1",
   "metadata": {},
   "source": [
    "## Make the Plot Interactive"
   ]
  },
  {
   "cell_type": "code",
   "execution_count": 34,
   "id": "3556c270-4820-4a83-bbe7-bba22c6633fa",
   "metadata": {},
   "outputs": [
    {
     "data": {
      "application/vnd.jupyter.widget-view+json": {
       "model_id": "af44a8ea4a0d4a3eb97b5b2e8073ca53",
       "version_major": 2,
       "version_minor": 0
      },
      "text/plain": [
       "interactive(children=(FloatSlider(value=2.0, description='V0', max=4.0, min=1.0, step=0.5), FloatSlider(value=…"
      ]
     },
     "execution_count": 34,
     "metadata": {},
     "output_type": "execute_result"
    }
   ],
   "source": [
    "# initialize the interactive plot\n",
    "iplotPhasorVIt = interactive(\n",
    "    plotterPhasorVIt,\n",
    "    V0= (1.,4.,.5),\n",
    "    I0= (1.,4.,.5),\n",
    "    f = (1.,2.,.1),\n",
    "    phi_deg = (-180,180,15), \n",
    "    t = (0.,1.,.005)\n",
    ")\n",
    "\n",
    "# start the interactive plot\n",
    "iplotPhasorVIt"
   ]
  },
  {
   "cell_type": "markdown",
   "id": "e578c231-b8a6-4eb4-82fe-876251d4fc39",
   "metadata": {},
   "source": [
    "## Exercise:\n",
    "\n",
    "The current is shown in red, the voltage in blue. The left phasor diagram shows the momentary values of current and voltage in the complex plane as arrows.<br>\n",
    "The real parts (projections on the real (x-)axis) are shown as dots connected with dashed lines to the corrdinate system origin.\n",
    "\n",
    "The same dots are displayed in the right diagram showing the time dependence of the real parts of current and voltage respectively.\n",
    "\n",
    "**1) Play with the time.**<br>\n",
    "The time slider $t$ runs from 0 to 1 second. The frequency $f$ is initally set to 1 Hz. Increase the time. What do you observe? \n",
    "\n",
    "**2) Phase difference between $I(t)$ and $V(t)$**<br>\n",
    "When you change the time, how does the angle $\\phi$ measured from current to voltage (initially -90°) change over time?\n",
    "\n",
    "**3) Real Parts $I(t)$ and $V(t)$**<br>\n",
    "The real parts of the complex numbers $I$ and $V$ are the projections on the real (x-)axis. They are shown as dots on the real axis of the phasor diagram. The same dots are shown in the right diagram showing the time dependence of real $I$ and $V$.  \n"
   ]
  },
  {
   "cell_type": "code",
   "execution_count": null,
   "id": "07a4e841-380f-4eae-bee1-a6da597469b3",
   "metadata": {},
   "outputs": [],
   "source": []
  }
 ],
 "metadata": {
  "kernelspec": {
   "display_name": "Python 3 (ipykernel)",
   "language": "python",
   "name": "python3"
  },
  "language_info": {
   "codemirror_mode": {
    "name": "ipython",
    "version": 3
   },
   "file_extension": ".py",
   "mimetype": "text/x-python",
   "name": "python",
   "nbconvert_exporter": "python",
   "pygments_lexer": "ipython3",
   "version": "3.9.13"
  }
 },
 "nbformat": 4,
 "nbformat_minor": 5
}
