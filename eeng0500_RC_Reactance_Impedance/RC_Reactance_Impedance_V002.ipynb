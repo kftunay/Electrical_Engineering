{
 "cells": [
  {
   "cell_type": "markdown",
   "id": "99811c32-b063-4efe-85ee-4cf88f82d3a4",
   "metadata": {},
   "source": [
    "# Impedance of RLC Circuits Expressed with Complex Numbers"
   ]
  },
  {
   "cell_type": "markdown",
   "id": "9de98757-5345-4677-8546-4ae11f0b094b",
   "metadata": {},
   "source": [
    "## Capacitive Reactance"
   ]
  },
  {
   "cell_type": "markdown",
   "id": "7d603158-9627-4097-83cd-34d82d9b4916",
   "metadata": {},
   "source": [
    "The time varying charging voltage $V_C(t)$ leads to a time varying charge displacement $Q(t)$ (aka \"the charge\") in the capacitor:\n",
    "\n",
    "$$\n",
    "\\bbox[15px, border: 2px solid black]\n",
    "{\n",
    "Q(t) = CV_C(t)\n",
    "}\n",
    "$$\n",
    "\n",
    "\n"
   ]
  },
  {
   "cell_type": "markdown",
   "id": "1d68b865-c01c-4822-9551-0df841d8f991",
   "metadata": {},
   "source": [
    "\n",
    "Capacitor charge and voltage:\n",
    "$$\n",
    "Q = CV_C  \\Leftrightarrow V_C =\\frac{1}{C}Q = \\frac{1}{C}\\int I_L(t)dt\n",
    "$$\n",
    "\n",
    "Assumption: (Co-)Sinusoidal charge voltage:\n",
    "\n",
    "$$\n",
    "V_C(t) = V_0\\cos(\\omega t) = \\mathrm{Re}\\left(V_0e^{i\\omega t}\\right)\n",
    "$$\n",
    "\n",
    "Simplify: Calculate with complex numbers and extract the real part after having done all calulations. The given (co-)sinusoidal charging voltage reads:\n",
    "\n",
    "$$\n",
    "\\bbox[15px, border: 2px solid black]\n",
    "{\n",
    "V_C(t) = V_0e^{i\\omega t}\n",
    "}\n",
    "$$"
   ]
  },
  {
   "cell_type": "markdown",
   "id": "f1a8e025-d665-4f50-b198-c22a8bfbda7e",
   "metadata": {},
   "source": [
    "### Calculation of the Current ###\n",
    "\n",
    "The current $I_C(t)$ is the rate of change of the charge displacement $\\dot{Q}(t)$:\n",
    "\n",
    "$$\n",
    "I_C(t) = \\dot{Q}(t) = C\\dot{V_C}(t) = i \\omega C V_C(t) \n",
    "= e^{i\\pi/2}  \\omega C V_0 e^{i\\omega t} \n",
    "= \\omega C V_0 e^{i\\left(\\omega t+\\pi/2\\right)}\n",
    "$$\n",
    "\n",
    "The current in a capacitor resulting from an externcal voltage source, summarized:\n",
    "\n",
    "$$\n",
    "\\bbox[15px, border: 2px solid black]\n",
    "{\n",
    "I_C(t) = \\omega C V_0\\,e^{\\mathrm{i} ( \\omega t+\\pi/2 ) } \n",
    "= I_{C,0}(\\omega,C)\\,e^{i\\left(\\omega t+\\pi/2\\right)}\n",
    "}\n",
    "$$\n",
    "\n",
    "When a sinusoidal excitation voltage $V_C(t)$ with a constant amplitude $V_0$ is connected to a capacitor then **the current $I(t)$ is leading the the voltage** by a phase difference of $+\\pi/2$. \n",
    "\n",
    "**In a CAPACITOR: \n",
    "<br>The voltage $V_C(t)$ is lagging the current $I_C(t)$ by a phase difference of $-\\pi/2$,\n",
    "<br>i.e. a quarter of a full oscillation period.**"
   ]
  },
  {
   "cell_type": "markdown",
   "id": "173d9a1c-9b51-46b9-b13c-33d6e7db3c22",
   "metadata": {},
   "source": [
    "The concept of AC impedance $Z$ is an extension of the DC resistance $R$. The extended Ohm's law reads:\n",
    "\n",
    "$$\n",
    " V(t) = ZI(t)\n",
    "$$\n",
    "\n",
    "The temporally constant impedance consists of a purely real resistance $R$ and a purely imaginary reactance $X$ (e.g. caused by a capacitor or inductor):\n",
    "\n",
    "$$\n",
    "Z = R + X \\\\\n",
    "R \\in \\mathcal{R} \\\\\n",
    "X \\in \\mathcal{I}\n",
    "$$\n",
    "\n",
    "The **Capacitive Reactance** is purely imaginary. It **increases** with frequency:\n",
    "\n",
    "$$\n",
    "\\bbox[15px, border: 2px solid black]\n",
    "{\n",
    "X_C = \\frac{V_C(t)}{I_C(t)} = \\frac{1}{ i \\omega C} = -i\\frac{1}{\\omega C}\n",
    "}\n",
    "$$"
   ]
  },
  {
   "cell_type": "markdown",
   "id": "333e3889-6954-4a77-a845-b7336654193a",
   "metadata": {
    "tags": []
   },
   "source": [
    "## Inductive Reactance"
   ]
  },
  {
   "cell_type": "markdown",
   "id": "f4e8984c-74ce-48d5-a50c-11dfdabe097f",
   "metadata": {},
   "source": [
    "The voltage across an inductor (e.g. coil or solenoid) subjected to an alternating current is:\n",
    "\n",
    "$$\n",
    "\\bbox[15px, border: 2px solid black]\n",
    "{\n",
    "V_L = L\\dot{I}_L\n",
    "}\n",
    "$$\n",
    "\n",
    "$$\n",
    "I_L(t) = \\frac{1}{L} \\int V_L(t') dt'\n",
    "$$\n",
    "\n",
    "Assumption: pure inductance, no parasitic resistance: \n",
    "\n",
    "$$\n",
    "\\bbox[15px, border: 2px solid black]\n",
    "{\n",
    "V_L(t) = V_0e^{i\\omega t}\n",
    "}\n",
    "$$\n",
    "\n",
    "$$\n",
    "\\int V_L(t') dt' = \\frac{1}{i\\omega} V_L(t) + c\n",
    "$$\n",
    "\n",
    "No DC offset: $c=0$.\n",
    "\n",
    "$$\n",
    "\\Rightarrow I_L(t) = \\frac{1}{i\\omega L} V_0e^{i\\omega t} = -i \\frac{1}{\\omega L} V_0e^{i\\omega t} = \\frac{1}{\\omega L} V_0\\, e^{i(\\omega t - \\pi/2)} = I_{L,0}\\, e^{i(\\omega t - \\pi/2)}\n",
    "$$\n",
    "\n",
    "The current in an inductor connected to an external voltage source, summarized:\n",
    "\n",
    "$$\n",
    "\\bbox[15px, border: 2px solid black]\n",
    "{\n",
    "I(t) = \\frac{1}{\\omega L} V_0\\, e^{i(\\omega t - \\pi/2)} = I_{L,0}(\\omega,L)\\, e^{i(\\omega t - \\pi/2)}\n",
    "}\n",
    "$$\n",
    "\n",
    "When a sinusoidal excitation voltage $V_L(t)$ with a constant amplitude $V_0$ is connected to an inductor then **the current $I_L(t)$ is lagging behind the the voltage** by a phase difference of $-\\pi/2$. \n",
    "\n",
    "**In an INDUCTOR: \n",
    "<br>The voltage $V_L(t)$ is leading the current $I_C(t)$ by a phase difference of $+\\pi/2$,\n",
    "<br>i.e. a quarter of a full oscillation period.**"
   ]
  },
  {
   "cell_type": "markdown",
   "id": "64cd08f1-5125-4bd4-bbb4-02b70bd0efde",
   "metadata": {},
   "source": [
    "\n",
    "The **Inductive Reactance** is purely imaginary. It **decreases** with frequency:\n",
    "\n",
    "\n",
    "\n",
    "$$\n",
    "\\bbox[15px, border: 2px solid black]\n",
    "{\n",
    "X_L = \\frac{V_L(t)}{I(t)} =  i \\omega L\n",
    "}\n",
    "$$"
   ]
  },
  {
   "cell_type": "markdown",
   "id": "aea1c83e-3e80-4307-b74e-6de306f7a1bc",
   "metadata": {},
   "source": [
    "## Let's use numpy and matplotlib to investigate! "
   ]
  },
  {
   "cell_type": "code",
   "execution_count": 1,
   "id": "a8783d1d-0600-4ca5-a2e5-f9f076c3d01a",
   "metadata": {},
   "outputs": [],
   "source": [
    "import numpy as np\n",
    "from numpy import pi, sin, cos, exp, real, imag, abs, angle\n",
    "import matplotlib.pyplot as plt\n",
    "from ipywidgets import interactive"
   ]
  },
  {
   "cell_type": "markdown",
   "id": "74a8430c-4133-4952-b8d8-c2a974390111",
   "metadata": {},
   "source": [
    "## Set Calculation Parameters"
   ]
  },
  {
   "cell_type": "code",
   "execution_count": 2,
   "id": "0bb3cc35-d692-4e37-b57a-39d77b6cd119",
   "metadata": {},
   "outputs": [],
   "source": [
    "# t = np.arange(-1.,1.0001,0.001)\n",
    "\n",
    "# f = 1. # Hz\n",
    "# omega = 2*pi*f\n",
    "\n",
    "# V0 = 1. # Excitation voltage\n",
    "# C = 1. # Farad\n",
    "# L = 1. # Henry"
   ]
  },
  {
   "cell_type": "markdown",
   "id": "cdfe0eec-428f-4f71-9a64-711650d44269",
   "metadata": {},
   "source": [
    "## Calculate the Capacitive Reactance $X_C$  ##"
   ]
  },
  {
   "cell_type": "code",
   "execution_count": 3,
   "id": "e7f9e5aa-a702-45d0-9821-caf74dd6beb1",
   "metadata": {},
   "outputs": [],
   "source": [
    "# Sinusoidal excitation voltage in complex notation.\n",
    "def fVC(t,V0=1.,omega=2*np.pi,phi=0.):\n",
    "    return V0*np.exp(1j*(omega*t+phi))\n",
    "\n",
    "# Capacitive reactance\n",
    "def fXC(C=1.,omega=1.):\n",
    "    return (1/(1j*omega*C))"
   ]
  },
  {
   "cell_type": "markdown",
   "id": "621997f5-ab09-418e-ae20-89429cd390e4",
   "metadata": {},
   "source": [
    "## Interactive Plot: Capacitor's V(t) and I(t) "
   ]
  },
  {
   "cell_type": "markdown",
   "id": "7156940d-4c5c-4de6-8027-2f68e92c4b6b",
   "metadata": {},
   "source": [
    "**Text and Annotations: See Jake VanderPlas!**\n",
    "\n",
    "https://jakevdp.github.io/PythonDataScienceHandbook/04.09-text-and-annotation.html"
   ]
  },
  {
   "cell_type": "code",
   "execution_count": 4,
   "id": "67f11fa2-6fad-44ea-add2-1ac6cdc26372",
   "metadata": {},
   "outputs": [
    {
     "name": "stdout",
     "output_type": "stream",
     "text": [
      "$V_C(t) = V_0\\,\\exp(\\mathrm{i}\\omega t)$\n",
      "$I_C(t) = \\omega C V_0\\,\\exp(\\mathrm{i}\\omega t + \\mathrm{i}\\pi/2)$\n"
     ]
    }
   ],
   "source": [
    "# The equations V(t), I(I) as Latex string with symboles only, without values.\n",
    "VCtext_eqn = r\"$V_C(t) = V_0\\,\\exp(\\mathrm{i}\\omega t)$\"\n",
    "ICtext_eqn = r\"$I_C(t) = \\omega C V_0\\,\\exp(\\mathrm{i}\\omega t + \\mathrm{i}\\pi/2)$\"\n",
    "\n",
    "print(VCtext_eqn)\n",
    "print(ICtext_eqn)"
   ]
  },
  {
   "cell_type": "code",
   "execution_count": 5,
   "id": "ae6d9ccf-2ed0-4a3f-b4a0-1d4578ee7aba",
   "metadata": {},
   "outputs": [
    {
     "name": "stdout",
     "output_type": "stream",
     "text": [
      "${V}_C(t) = 2.0\\mathrm{V}\\,\\exp(\\, \\mathrm{i}\\, [ 2\\pi \\,3.0\\, \\mathrm{s^{-1}} ]\\, t\\, )$\n",
      "${I}_C(t) = [ 2\\pi\\, 3.0\\, \\mathrm{s^{-1}} ]\\, 1.0\\mathrm{F}\\, 2.0\\mathrm{V}\\, \\exp(\\, \\mathrm{i}\\, [ 2\\pi\\, 3.0\\, \\mathrm{s^{-1}} ]\\, t + \\mathrm{i}\\, 0.5\\pi\\, )$\n"
     ]
    }
   ],
   "source": [
    "# create dynamic Latex text for voltage formula using exp(...) \n",
    "def VCtext_dyn(V0, f):\n",
    "    s = r\"${V}_C(t) = \" + f\"{V0:.1f}\" + r\"\\mathrm{V}\\,\" \\\n",
    "    + r\"\\exp(\\, \\mathrm{i}\\, [ 2\\pi \\,\"+ f\"{f:.1f}\" + r\"\\, \\mathrm{s^{-1}} ]\\, t\\, )$\"\n",
    "    return(s)\n",
    "\n",
    "# create dynamic Latex text for current formula using exp(...)\n",
    "def ICtext_dyn(V0, f, C):\n",
    "    s = r\"${I}_C(t) = [ 2\\pi\\, \" + f\"{f:.1f}\" + r\"\\, \\mathrm{s^{-1}} ]\\, \" + \\\n",
    "    f\"{C:.1f}\" + r\"\\mathrm{F}\\, \" + \\\n",
    "    f\"{V0:.1f}\" + r\"\\mathrm{V}\\, \" + \\\n",
    "    r\"\\exp(\\, \\mathrm{i}\\, [ 2\\pi\\, \" + f\"{f:.1f}\" + r\"\\, \\mathrm{s^{-1}} ]\\, t + \\mathrm{i}\\, 0.5\\pi\\, )$\"    \n",
    "    return(s)\n",
    "\n",
    "\n",
    "print(VCtext_dyn(2,3))\n",
    "print(ICtext_dyn(2,3,1))"
   ]
  },
  {
   "cell_type": "code",
   "execution_count": 6,
   "id": "f82ab1a7-7a94-44ed-a215-023e83d6ed1b",
   "metadata": {},
   "outputs": [
    {
     "name": "stdout",
     "output_type": "stream",
     "text": [
      "$V_C(t) = 2.0\\mathrm{V}\\, e^{\\mathrm{i}\\, [ 2\\pi\\, 1.0\\, \\mathrm{s^{-1}} ]\\, t}$\n",
      "$I_C(t) = [ 2\\pi\\, 1.0\\, \\mathrm{s^{-1}} ]\\, 3.0\\mathrm{F}\\, 2.0\\mathrm{V}\\, e^{\\mathrm{i}\\, ( [ 2\\pi\\, 1.0\\, \\mathrm{s^{-1}} ]\\, t + 0.5\\pi )}$\n"
     ]
    }
   ],
   "source": [
    "def VCtext_e(V0, f):\n",
    "    s = r\"$V_C(t) = \" + f\"{V0:.1f}\" + r\"\\mathrm{V}\" + r\"\\, e^{\\mathrm{i}\\, [ 2\\pi\\, \"+ f\"{f:.1f}\" + r\"\\, \\mathrm{s^{-1}} ]\\, t}$\"\n",
    "    return(s)\n",
    "\n",
    "def ICtext_e(V0, f, C):\n",
    "    s = r\"$I_C(t) = [ 2\\pi\\, \" +f\"{f:.1f}\\, \" +r\"\\mathrm{s^{-1}} ]\\, \" + f\"{C:.1f}\" +r\"\\mathrm{F}\\, \" +f\"{V0:.1f}\" + r\"\\mathrm{V}\" + r\"\\, e^{\\mathrm{i}\\, ( [ 2\\pi\\, \"+ f\"{f:.1f}\" + r\"\\, \\mathrm{s^{-1}} ]\\, t + 0.5\\pi )}$\"\n",
    "    return(s)\n",
    "\n",
    "print(VCtext_e(2,1))\n",
    "print(ICtext_e(2,1,3))"
   ]
  },
  {
   "cell_type": "code",
   "execution_count": 7,
   "id": "ee3b47f4-e56d-4ee6-a7aa-6c8c4336cc3d",
   "metadata": {},
   "outputs": [],
   "source": [
    "def plotterCVIt(V0=1., f=1., C=1.): # parameters with initial values\n",
    "\n",
    "    t = np.arange(-1.,1.0001,0.005)\n",
    "\n",
    "    omega = 2*pi*f\n",
    "    \n",
    "    # calculate the time dependent V and I\n",
    "    XC = fXC(C,omega)\n",
    "    VC = fVC(t,V0,omega)\n",
    "    IC = VC/XC\n",
    "\n",
    "    figCVIt, axCVIt = plt.subplots(figsize=(12,4), dpi = 136)\n",
    "\n",
    "    axCVIt.plot(t, real(VC), \"-\", color = \"tab:blue\", label = r\"Voltage $V_C(t)$\")\n",
    "    axCVIt.set_xlabel(r\"$t$ / s\")\n",
    "    axCVIt.set_ylabel(r\"Voltage $V_C$ in V\")\n",
    "    axCVIt.set_title(r\"Capacitor's $V(t)$ and $I(t)$. Voltage $V(t)$ is given.\")\n",
    "\n",
    "    axCVIt2=axCVIt.twinx()\n",
    "    \n",
    "    # 2nd axis for the current\n",
    "    axCVIt2.plot(t, real(IC), \"-\", color = \"tab:orange\", label = r\"Current $I_C(t)$\")\n",
    "    axCVIt2.set_ylabel(\"Current $I_C$ in A\")\n",
    "      \n",
    "    figCVIt.text(0.15, 0.8, VCtext_eqn + \"\\n\" + ICtext_eqn, bbox=dict(boxstyle=\"round, pad=.5\", fc=\"0.9\", alpha=0.5), fontsize=14, ha = \"left\", va=\"top\")\n",
    "\n",
    "    # format: exp(...)\n",
    "    figCVIt.text(0.15, 0.2, VCtext_dyn(V0,f) + \"\\n\" + ICtext_dyn(V0,f,C), bbox=dict(boxstyle=\"round, pad=.5\", fc=\"0.9\", alpha=0.5), fontsize=14, ha = \"left\", va=\"bottom\")\n",
    "\n",
    "    # format: e^x ...\n",
    "#    figCVIt.text(0.15, 0.2, VCtext_e(V0,f) + \"\\n\" + ICtext_e(V0,f,C), bbox=dict(boxstyle=\"round, pad=.5\", fc=\"0.9\", alpha=0.5), fontsize=14, ha = \"left\", va=\"bottom\")\n",
    "\n",
    "    axCVIt.set_xlim(-1.,1.)\n",
    "    axCVIt.set_ylim(-5.,5.)\n",
    "\n",
    "    axCVIt2.set_ylim(-50.,50.)\n",
    "\n",
    "    axCVIt.grid(True)\n",
    "\n",
    "    figCVIt.legend()\n",
    "\n",
    "    plt.plot()"
   ]
  },
  {
   "cell_type": "code",
   "execution_count": 8,
   "id": "855e82ac-82ef-4395-9ef4-c2cdaa082156",
   "metadata": {},
   "outputs": [
    {
     "data": {
      "application/vnd.jupyter.widget-view+json": {
       "model_id": "2d53bdef1f244500b87e9f987f965fcc",
       "version_major": 2,
       "version_minor": 0
      },
      "text/plain": [
       "interactive(children=(FloatSlider(value=1.0, description='V0', max=5.0, min=1.0, step=0.2), FloatSlider(value=…"
      ]
     },
     "execution_count": 8,
     "metadata": {},
     "output_type": "execute_result"
    }
   ],
   "source": [
    "# initialize the interactive plot\n",
    "iplotCVIt = interactive(\n",
    "    plotterCVIt,\n",
    "    V0= (1.,5.,.2),\n",
    "    f = (1.,5.,.2),\n",
    "    C = (1.,5.,.2)\n",
    ")\n",
    "\n",
    "# start the interactive plot\n",
    "iplotCVIt"
   ]
  },
  {
   "cell_type": "markdown",
   "id": "c7d3f7a5-5839-4adc-905b-b1ed0eeb2b6e",
   "metadata": {},
   "source": [
    "## Calculate the Inductive Reactance $X_L$  ##"
   ]
  },
  {
   "cell_type": "code",
   "execution_count": 9,
   "id": "a7243ead-cc56-46c6-b51c-a511303ce81c",
   "metadata": {},
   "outputs": [],
   "source": [
    "def fVL(t,V0=1.,omega=2*np.pi,phi=0.):\n",
    "    return V0*np.exp(1j*(omega*t+phi))\n",
    "\n",
    "def fXL(L=1.,omega=1.):\n",
    "    return 1j*omega*L"
   ]
  },
  {
   "cell_type": "code",
   "execution_count": 10,
   "id": "5c1fedc9-c2ad-4c8d-ab89-6c5e206b7deb",
   "metadata": {},
   "outputs": [],
   "source": [
    "# Some test values\n",
    "t = np.arange(-1.,1.0001,0.1)\n",
    "f = 1. # Hz\n",
    "omega = 2*pi*f\n",
    "L = 1.\n",
    "V0 = 1."
   ]
  },
  {
   "cell_type": "code",
   "execution_count": 11,
   "id": "22141709-92e0-4b7a-b4ff-c212bafeb85b",
   "metadata": {},
   "outputs": [],
   "source": [
    "XL = fXL(L,omega)\n",
    "VL = fVL(t,V0,omega)\n",
    "IL = VL/XL"
   ]
  },
  {
   "cell_type": "code",
   "execution_count": 12,
   "id": "94aa579f-873a-4fd4-a8a2-f9b359976919",
   "metadata": {},
   "outputs": [
    {
     "name": "stdout",
     "output_type": "stream",
     "text": [
      "$V_L(t) = V_0\\,\\exp(\\mathrm{i}\\omega t)$\n",
      "$I_L(t) = 1/(\\omega L) V_0\\,\\exp(\\mathrm{i}\\omega t - \\mathrm{i}\\pi/2)$\n"
     ]
    }
   ],
   "source": [
    "# The equations V(t), I(I) as Latex string with symboles only, without values.\n",
    "VLtext_eqn = r\"$V_L(t) = V_0\\,\\exp(\\mathrm{i}\\omega t)$\"\n",
    "ILtext_eqn = r\"$I_L(t) = 1/(\\omega L) V_0\\,\\exp(\\mathrm{i}\\omega t - \\mathrm{i}\\pi/2)$\"\n",
    "\n",
    "print(VLtext_eqn)\n",
    "print(ILtext_eqn)"
   ]
  },
  {
   "cell_type": "code",
   "execution_count": 13,
   "id": "11893084-6c92-484e-bbf3-8ede2f956aa6",
   "metadata": {},
   "outputs": [
    {
     "name": "stdout",
     "output_type": "stream",
     "text": [
      "${V}_L(t) = 2.0\\mathrm{V}\\, \\exp(\\, \\mathrm{i}\\, [ 2\\pi \\,3.0\\, \\mathrm{s^{-1}} ]\\, t\\, )$\n",
      "${I}_L(t) = 1/(\\, [ 2\\pi\\, 3.0\\, \\mathrm{s^{-1}} ] \\, 1.0\\mathrm{H} \\,) \\, 2.0\\mathrm{V}\\, \\exp(\\, \\mathrm{i}\\, [ 2\\pi\\, 3.0\\, \\mathrm{s^{-1}} ]\\, t - \\mathrm{i}\\, 0.5\\pi\\, )$\n"
     ]
    }
   ],
   "source": [
    "# create dynamic Latex text for voltage formula using exp(...) \n",
    "def VLtext_dyn(V0, f):\n",
    "    s = r\"${V}_L(t) = \" + f\"{V0:.1f}\" + r\"\\mathrm{V}\\, \" \\\n",
    "    + r\"\\exp(\\, \\mathrm{i}\\, [ 2\\pi \\,\"+ f\"{f:.1f}\" + r\"\\, \\mathrm{s^{-1}} ]\\, t\\, )$\"\n",
    "    return(s)\n",
    "\n",
    "# create dynamic Latex text for current formula using exp(...)\n",
    "def ILtext_dyn(V0, f, L):\n",
    "    s = r\"${I}_L(t) = 1/(\\, [ 2\\pi\\, \" + f\"{f:.1f}\" + r\"\\, \\mathrm{s^{-1}} ] \\, \" + f\"{L:.1f}\" + r\"\\mathrm{H} \\,) \\, \" + \\\n",
    "    f\"{V0:.1f}\" + r\"\\mathrm{V}\\, \" + \\\n",
    "    r\"\\exp(\\, \\mathrm{i}\\, [ 2\\pi\\, \" + f\"{f:.1f}\" + r\"\\, \\mathrm{s^{-1}} ]\\, t - \\mathrm{i}\\, 0.5\\pi\\, )$\"    \n",
    "    return(s)\n",
    "\n",
    "\n",
    "print(VLtext_dyn(2,3))\n",
    "print(ILtext_dyn(2,3,1))"
   ]
  },
  {
   "cell_type": "code",
   "execution_count": 14,
   "id": "cff37f21-4f9d-4df0-86b3-0d6f25437ca2",
   "metadata": {},
   "outputs": [],
   "source": [
    "def plotterLVIt(V0=1., f=1., L=1.): # parameters with initial values\n",
    "\n",
    "    t = np.arange(-1.,1.0001,0.005)\n",
    "\n",
    "    omega = 2*pi*f\n",
    "    \n",
    "    # calculate the time dependent V and I\n",
    "    XL = fXL(L,omega)\n",
    "    VL = fVL(t,V0,omega)\n",
    "    IL = VL/XL\n",
    "\n",
    "    figLVIt, axLVIt = plt.subplots(figsize=(12,4), dpi = 136)\n",
    "\n",
    "    axLVIt.plot(t, real(VL), \"-\", color = \"tab:blue\", label = r\"Voltage $V_L(t)$\")\n",
    "    axLVIt.set_xlabel(r\"$t$ / s\")\n",
    "    axLVIt.set_ylabel(r\"Voltage $V_L$ in V\")\n",
    "    axLVIt.set_title(r\"Inductor's $V(t)$ and $I(t)$. Voltage $V(t)$ is given.\")\n",
    "\n",
    "\n",
    "    axLVIt2=axLVIt.twinx()\n",
    "    \n",
    "    # 2nd axis for the current\n",
    "    axLVIt2.plot(t, real(IL), \"-\", color = \"tab:orange\", label = r\"Current $I_L(t)$\")\n",
    "    axLVIt2.set_ylabel(\"Current $I_L$ in A\")\n",
    "       \n",
    "    figLVIt.text(0.15, 0.8, VLtext_eqn + \"\\n\" + ILtext_eqn, bbox=dict(boxstyle=\"round, pad=.5\", fc=\"0.9\", alpha=0.5), fontsize=14, ha = \"left\", va=\"top\")\n",
    "\n",
    "    # format: exp(...)\n",
    "    figLVIt.text(0.15, 0.2, VLtext_dyn(V0,f) + \"\\n\" + ILtext_dyn(V0,f,L), bbox=dict(boxstyle=\"round, pad=.5\", fc=\"0.9\", alpha=0.5), fontsize=14, ha = \"left\", va=\"bottom\")\n",
    "\n",
    "\n",
    "    axLVIt.set_xlim(-1.,1.)\n",
    "    axLVIt.set_ylim(-5.,5.)\n",
    "\n",
    "    axLVIt2.set_ylim(-0.5,0.5) # current in inductor case \n",
    "\n",
    "    axLVIt.grid(True)\n",
    "\n",
    "    figLVIt.legend()\n",
    "\n",
    "    plt.plot()"
   ]
  },
  {
   "cell_type": "code",
   "execution_count": 15,
   "id": "7b0414dd-eaee-4b6c-af02-d7588ec0e8d8",
   "metadata": {},
   "outputs": [
    {
     "data": {
      "application/vnd.jupyter.widget-view+json": {
       "model_id": "cf30947c15c7433284d7487c66511420",
       "version_major": 2,
       "version_minor": 0
      },
      "text/plain": [
       "interactive(children=(FloatSlider(value=1.0, description='V0', max=5.0, min=1.0, step=0.2), FloatSlider(value=…"
      ]
     },
     "execution_count": 15,
     "metadata": {},
     "output_type": "execute_result"
    }
   ],
   "source": [
    "# initialize the interactive plot\n",
    "iplotLVIt = interactive(\n",
    "    plotterLVIt,\n",
    "    V0= (1.,5.,.2),\n",
    "    f = (1.,5.,.2),\n",
    "    L = (1.,5.,.2)\n",
    ")\n",
    "\n",
    "# start the interactive plot\n",
    "iplotLVIt"
   ]
  },
  {
   "cell_type": "code",
   "execution_count": null,
   "id": "eacf339b-145b-48c0-ba21-60db2658f8c2",
   "metadata": {},
   "outputs": [],
   "source": []
  },
  {
   "cell_type": "markdown",
   "id": "45b682ba-9ccf-4575-84b9-59fab8af55b3",
   "metadata": {},
   "source": [
    "## RC Circuit: Voltage Divider, Low-Pass Filter"
   ]
  },
  {
   "cell_type": "markdown",
   "id": "86403375-4197-4186-b28b-596b55b300ab",
   "metadata": {},
   "source": [
    "<img src=\"./images/RC_circuit_manual_drawing_250k.jpg\" width=300/>"
   ]
  },
  {
   "cell_type": "markdown",
   "id": "9120544d-5279-4284-bc9f-343a788cba41",
   "metadata": {},
   "source": [
    "$R$ and $C$ in Series:\n",
    "\n",
    "$$\n",
    "Z = R + X_C\n",
    "$$\n",
    "\n",
    "Excitation voltage, source voltage:\n",
    "\n",
    "$$\n",
    "V_S(t) = V_0e^{i\\omega t}\n",
    "$$\n",
    "\n",
    "Voltage divider, voltage across $C$:\n",
    "\n",
    "$$\n",
    "V_C(t) = \\frac{X_C}{Z}V_S(t) = \\frac{X_C}{R+X_C}V_S(t) = \\frac{X_C}{R+X_C}V_0e^{i\\omega t}\n",
    "$$\n",
    "\n",
    "Complex gain (attenuation) factor causing amplitude reduction and phase shift:\n",
    "\n",
    "$$\n",
    "h = \\frac{V_C(t)}{V_S(t)} = \\frac{X_C}{R+X_C}\n",
    "$$"
   ]
  },
  {
   "cell_type": "markdown",
   "id": "f4bca86e-508b-48e7-9b69-680329040a33",
   "metadata": {},
   "source": [
    "$h$ is a complex number. It can be expressed as $h=|h|e^{i\\phi}$. Notice that $X_C$ is purely imaginary: $(-X_C)X_C = \\bar{X}_C X_C = |X_C|^2$\n",
    "\n",
    "$$\n",
    "\\begin{eqnarray}\n",
    "h & = &  \\frac{X_C}{R+X_C} \\cdot \\frac{R-X_C}{R-X_C} = \\frac{X_C(R-X_C)}{(R+X_C)(R-X_C)} \\\\\n",
    "\\\\\n",
    "& = & \\frac{X_C(R-X_C)}{R^2+X_C (-X_C)} = \\frac{X_C(R-X_C)}{R^2+|X_C|^2} \\\\\n",
    "\\\\\n",
    "& = & \\frac{|X_C|^2 + X_C R}{R^2+|X_C|^2} \\\\ \n",
    "\\\\\n",
    "& = & \\frac{|X_C|^2}{R^2+|X_C|^2} +  \\frac{X_C R}{R^2+|X_C|^2} = \\mathrm{Re}(h) + \\mathrm{i}\\,\\mathrm{Im}(h) \\\\\n",
    "\\\\\n",
    "\\Rightarrow h & = & \\frac{1}{(\\omega R C)^2+1} -\\mathrm{i}\\frac{\\omega RC}{(\\omega R C)^2+1} \n",
    "\\end{eqnarray}\n",
    "\\\\\n",
    "$$\n",
    "\n"
   ]
  },
  {
   "cell_type": "markdown",
   "id": "b867ccfa-a1bb-4b9d-9310-b52e6c238bdd",
   "metadata": {},
   "source": [
    "$$\n",
    "\\bbox[5px, border: 2px solid black]\n",
    "{\n",
    "\\mathrm{Re}(h) \n",
    "= \\frac{\\left(1/(\\omega C)\\right)^2}{R^2+\\left(1/(\\omega C)\\right)^2} \\cdot \\frac{(\\omega C)^2}{(\\omega C)^2}\n",
    "= \\frac{1}{(\\omega R C)^2+1}\n",
    "= |h|^2\n",
    "}\n",
    "$$\n",
    "\n",
    "$$\n",
    "\\mathrm{i}\\,\\mathrm{Im}(h) = \\frac{X_C R}{R^2+|X_C|^2} \n",
    "= \\frac{1/(\\mathrm{i}\\omega C) R}{R^2+|X_C|^2}\n",
    "= -\\mathrm{i} \\frac{1/(\\omega C) R}{R^2+|X_C|^2}\n",
    "$$\n",
    "\n",
    "$$\n",
    "\\bbox[5px, border: 2px solid black]\n",
    "{\n",
    "\\mathrm{Im}(h) = -\\frac{1/(\\omega C) R}{R^2+|X_C|^2}\n",
    "= -\\frac{\\omega RC}{(\\omega R C)^2+1} \n",
    "}\n",
    "$$"
   ]
  },
  {
   "cell_type": "markdown",
   "id": "0639fbde-1107-4dc5-ac87-67ddb218afb8",
   "metadata": {},
   "source": [
    "**Absolute values:**\n",
    "\n",
    "$$\n",
    "|h|^2 = \\left(\\mathrm{Re}(h)\\right)^2 + \\left(\\mathrm{Im}(h)\\right)^2 = \\frac{1}{(\\omega R C)^2+1}\n",
    "$$\n",
    "\n",
    "$$\n",
    "\\bbox[5px, border: 2px solid black]\n",
    "{\n",
    "|h| = \\frac{1}{\\sqrt{(\\omega R C)^2+1}}\n",
    "}\n",
    "$$\n",
    "\n"
   ]
  },
  {
   "cell_type": "markdown",
   "id": "c45838c0-afd3-4907-a472-ca0e2d0182c7",
   "metadata": {},
   "source": [
    "**Phase angle:**\n",
    "\n",
    "$\\phi = \\cos^{-1}(x)$ is not unique in the interval $-\\pi/2 \\le \\phi \\le \\pi/2$, i.e. $x = \\cos(\\phi)$ and  $x = \\cos(-\\phi)$. Better use $\\tan^{-1}(\\phi)$.\n",
    "\n",
    "$$\n",
    "\\cos(\\angle h) = \\frac{\\mathrm{Re}(h)}{|h|} = {|h|} \n",
    "$$\n",
    "\n",
    "$$\n",
    "\\bbox[5px, border: 2px solid black]\n",
    "{\n",
    "\\tan(\\angle h) = \\frac{\\mathrm{Im}(h)}{\\mathrm{Re}(h)} = -\\omega RC\n",
    "}\n",
    "$$"
   ]
  },
  {
   "cell_type": "markdown",
   "id": "fc2a1a5e-11d5-4445-bb16-f74421ed79fc",
   "metadata": {},
   "source": [
    "## Easier Caluculation: ##\n",
    "\n",
    "Express\n",
    "\n",
    "$$ \n",
    "Z = R + X_C = R + \\frac{1}{i \\omega C}  = R -i\\frac{1}{\\omega C}\n",
    "$$\n",
    "\n",
    "with\n",
    "\n",
    "$$\n",
    "\\begin{eqnarray}\n",
    "z &=& a + ib \\qquad (\\bar{z} = a -ib)\\\\\n",
    "\\\\\n",
    "\\Leftrightarrow \\; a &=& R \\; , \\; b = -\\frac{1}{\\omega C}\n",
    "\\end{eqnarray}\n",
    "$$\n",
    "\n",
    "Quotient (needed later):\n",
    "\n",
    "$$\n",
    "a/b = -\\omega RC\n",
    "$$\n",
    "\n",
    "Remember:\n",
    "\n",
    "$$\n",
    "|z| = \\sqrt{a^2 + b^2}\n",
    "$$\n",
    "\n",
    "The voltage divider gain $h = X_C/(R + X_C)$ can be rewritten as:\n",
    "\n",
    "$$\n",
    "\\begin{eqnarray}\n",
    "h &=& \\frac{ib}{z} \n",
    "= \\frac{ib}{z}\\cdot\\frac{\\bar{z}}{\\bar{z}} \n",
    "= \\frac{b^2}{a^2 + b^2} + \\mathrm{i}\\frac{ab}{a^2 + b^2} \\\\\n",
    "\\\\\n",
    "\\Leftrightarrow \\; h &=& \\frac{1}{(a/b)^2 + 1} + \\mathrm{i}\\frac{a/b}{(a/b)^2 + 1} \\\\\n",
    "\\\\\n",
    "\\mathrm{Re}(h) &=& \\frac{1}{(a/b)^2 + 1} = \\frac{1}{(\\omega R C)^2+1}\\\\\n",
    "\\\\\n",
    "\\mathrm{Im}(h) &=& \\frac{a/b}{(a/b)^2 + 1} = -\\frac{\\omega RC}{(\\omega R C)^2+1} \\\\\n",
    "\\\\\n",
    "|h| &=& \\frac{1}{\\sqrt{(a/b)^2 + 1}} = \\frac{1}{\\sqrt{(\\omega RC)^2 + 1}}\\\\\n",
    "\\\\\n",
    "\\cos(\\angle h) &=& \\frac{\\mathrm{Re}(h)}{|h|} \\\\\n",
    "\\\\\n",
    "\\tan(\\angle h) &=& \\frac{\\mathrm{Im}(h)}{\\mathrm{Re}(h)} = a/b = -\\omega RC\n",
    "\\end{eqnarray}\n",
    "$$"
   ]
  },
  {
   "cell_type": "markdown",
   "id": "b9b54db0-95ea-4da5-8258-32ff2ab0a4c3",
   "metadata": {},
   "source": [
    "## Numerical Calculation ##"
   ]
  },
  {
   "cell_type": "code",
   "execution_count": 16,
   "id": "771059ad-eb3d-4c46-a9b6-8496e71e0547",
   "metadata": {
    "tags": []
   },
   "outputs": [],
   "source": [
    "#help(np.logspace)"
   ]
  },
  {
   "cell_type": "code",
   "execution_count": 17,
   "id": "3473f9cb-0f03-4bd8-b934-b5f63ddf0c00",
   "metadata": {},
   "outputs": [],
   "source": [
    "f = np.logspace(-1,4)\n",
    "omega = 2*pi*f\n",
    "\n",
    "#print(f\"f=\\n{f} Hz\")\n",
    "#print(f\"omega=\\n{omega/(2*pi)} 2*pi/s\")"
   ]
  },
  {
   "cell_type": "code",
   "execution_count": 18,
   "id": "9f798e30-9bcd-45bd-8e8e-cf389c8ec585",
   "metadata": {},
   "outputs": [
    {
     "name": "stdout",
     "output_type": "stream",
     "text": [
      "tc = R*C = 0.01 s\n",
      "fc = 1/tc = 100.0 Hz\n"
     ]
    }
   ],
   "source": [
    "R = 1.e3\n",
    "C = 10.e-6\n",
    "\n",
    "XC = 1/(1.j*omega*C)\n",
    "h = XC/(R + XC)\n",
    "\n",
    "tc = R*C\n",
    "fc = 1/tc\n",
    "\n",
    "print(f\"tc = R*C = {tc} s\")\n",
    "print(f\"fc = 1/tc = {1/tc} Hz\")"
   ]
  },
  {
   "cell_type": "markdown",
   "id": "af059bfb-f732-4ac0-91b2-06230b8841ad",
   "metadata": {},
   "source": [
    "**Plausibility Check**\n",
    "\n",
    "At which freq. is the phase shift $\\phi = -\\pi/4$ (or -45°), when $R=1000\\Omega$ and $C=10\\mu F$? \n",
    "\n",
    "$\\tan(-\\pi/4) = -1 = -\\omega RC \\Leftrightarrow \\omega = 1/(RC)$\n",
    "\n",
    "$RC = 10^3\\cdot10^{-5} \\mathrm{s} = 10^{-2} \\mathrm{s} \\Leftrightarrow \\omega = 100\\,\\mathrm{rad/s}$\n",
    "\n",
    "$f_{-\\pi/4} = \\omega/(2\\pi) = 15.9\\,\\mathrm{Hz}$\n"
   ]
  },
  {
   "cell_type": "code",
   "execution_count": 19,
   "id": "ff7950b9-7b00-4320-b23e-01c73a1c3d9f",
   "metadata": {},
   "outputs": [
    {
     "data": {
      "text/plain": [
       "15.915494309189533"
      ]
     },
     "execution_count": 19,
     "metadata": {},
     "output_type": "execute_result"
    }
   ],
   "source": [
    "100/2/pi"
   ]
  },
  {
   "cell_type": "code",
   "execution_count": 20,
   "id": "368ef888-a360-4553-866c-07d9b6a30526",
   "metadata": {},
   "outputs": [
    {
     "data": {
      "text/plain": [
       "-0.9999999999999999"
      ]
     },
     "execution_count": 20,
     "metadata": {},
     "output_type": "execute_result"
    }
   ],
   "source": [
    "np.tan(-pi/4)"
   ]
  },
  {
   "cell_type": "code",
   "execution_count": 21,
   "id": "265227e3-4578-4137-b1cf-3a6196a3baf0",
   "metadata": {},
   "outputs": [
    {
     "data": {
      "text/plain": [
       "[]"
      ]
     },
     "execution_count": 21,
     "metadata": {},
     "output_type": "execute_result"
    },
    {
     "data": {
      "image/png": "[encoded data removed]",
      "text/plain": [
       "<Figure size 1600x800 with 2 Axes>"
      ]
     },
     "metadata": {},
     "output_type": "display_data"
    }
   ],
   "source": [
    "fig10, [p_abs, p_ang] = plt.subplots(2,1,figsize=(16,8))\n",
    "p_abs.loglog(f,abs(h))\n",
    "p_abs.set_xlabel(r\"$f$ in Hz\")\n",
    "p_abs.set_ylabel(r\"$|h|$\")\n",
    "p_abs.grid(True)\n",
    "\n",
    "f_1 = 1/(R*C)/(2*pi)\n",
    "\n",
    "p_ang.semilogx(f,angle(h)/pi)\n",
    "p_ang.set_xlabel(r\"$f$ in Hz\")\n",
    "p_ang.set_ylabel(r\"$\\angle h$ in $\\pi$\")\n",
    "p_ang.grid(True)\n",
    "plt.plot()"
   ]
  },
  {
   "cell_type": "code",
   "execution_count": 22,
   "id": "5c8cb771-d73f-45eb-94a8-fcccb31a0a69",
   "metadata": {},
   "outputs": [
    {
     "data": {
      "text/plain": [
       "15.915494309189533"
      ]
     },
     "execution_count": 22,
     "metadata": {},
     "output_type": "execute_result"
    }
   ],
   "source": [
    "f_1"
   ]
  },
  {
   "cell_type": "code",
   "execution_count": 23,
   "id": "7764554f-239b-4f85-b779-10ba317c5060",
   "metadata": {},
   "outputs": [
    {
     "data": {
      "text/plain": [
       "0.25"
      ]
     },
     "execution_count": 23,
     "metadata": {},
     "output_type": "execute_result"
    }
   ],
   "source": [
    "np.arccos(np.sqrt(1/2))/pi"
   ]
  },
  {
   "cell_type": "markdown",
   "id": "a8142e93-284f-4bd5-848a-1ec3ddf3b44f",
   "metadata": {},
   "source": [
    "## RL Circuit"
   ]
  },
  {
   "cell_type": "code",
   "execution_count": null,
   "id": "4416675a-9dc9-4e00-b985-909588c46ef7",
   "metadata": {},
   "outputs": [],
   "source": []
  },
  {
   "cell_type": "markdown",
   "id": "9609bf5a-2def-4f32-9406-b706be2f2244",
   "metadata": {},
   "source": [
    "## RLC Circuit in Series"
   ]
  },
  {
   "cell_type": "code",
   "execution_count": null,
   "id": "6c00bc78-62f4-4850-be12-83a5aad5e093",
   "metadata": {},
   "outputs": [],
   "source": []
  },
  {
   "cell_type": "markdown",
   "id": "d4d2deb8-0439-417e-b660-614bb48df4d5",
   "metadata": {},
   "source": [
    "## RLC Ciruit in Parallel"
   ]
  },
  {
   "cell_type": "code",
   "execution_count": null,
   "id": "e27df60f-dc5b-40da-88c4-9fd4215cd3db",
   "metadata": {},
   "outputs": [],
   "source": []
  },
  {
   "cell_type": "markdown",
   "id": "de2c275f-2979-401f-bff6-169a5b1a7791",
   "metadata": {},
   "source": [
    "## DRAFT, TO BE DONE"
   ]
  },
  {
   "cell_type": "code",
   "execution_count": null,
   "id": "301260c0-fd6f-43e2-a705-e2740da4e8b8",
   "metadata": {},
   "outputs": [],
   "source": []
  },
  {
   "cell_type": "code",
   "execution_count": 24,
   "id": "7a6d29d9-68cc-4035-ba8b-73c221a0edad",
   "metadata": {},
   "outputs": [
    {
     "ename": "NameError",
     "evalue": "name 'phi' is not defined",
     "output_type": "error",
     "traceback": [
      "\u001b[1;31m---------------------------------------------------------------------------\u001b[0m",
      "\u001b[1;31mNameError\u001b[0m                                 Traceback (most recent call last)",
      "Cell \u001b[1;32mIn [24], line 2\u001b[0m\n\u001b[0;32m      1\u001b[0m r \u001b[38;5;241m=\u001b[39m \u001b[38;5;241m1\u001b[39m\n\u001b[1;32m----> 2\u001b[0m z \u001b[38;5;241m=\u001b[39m r\u001b[38;5;241m*\u001b[39mexp(\u001b[38;5;241m1\u001b[39mj\u001b[38;5;241m*\u001b[39m\u001b[43mphi\u001b[49m)\n\u001b[0;32m      3\u001b[0m o \u001b[38;5;241m=\u001b[39m np\u001b[38;5;241m.\u001b[39mzeros(z\u001b[38;5;241m.\u001b[39mshape)\n",
      "\u001b[1;31mNameError\u001b[0m: name 'phi' is not defined"
     ]
    }
   ],
   "source": [
    "r = 1\n",
    "z = r*exp(1j*phi)\n",
    "o = np.zeros(z.shape) # origin"
   ]
  },
  {
   "cell_type": "markdown",
   "id": "afeec585-e025-447f-a318-f5847139c0f2",
   "metadata": {},
   "source": [
    "* https://www.audiolabs-erlangen.de/resources/MIR/FMP/C2/C2_ComplexNumbers.html"
   ]
  },
  {
   "cell_type": "code",
   "execution_count": null,
   "id": "948bbdfc-9ac6-4d8a-9d94-5b3ee3c80917",
   "metadata": {},
   "outputs": [],
   "source": [
    "start = 0.+0.j\n",
    "c = 2.*exp(pi/4.j)"
   ]
  },
  {
   "cell_type": "code",
   "execution_count": null,
   "id": "740c373f-1cab-4408-a149-7424d76cd2ac",
   "metadata": {},
   "outputs": [],
   "source": [
    "def plot_cx_arrow_xy(ax, cx, cx_from=0, color=\"k\", linestyle=\"-\", width=1):\n",
    "    from numpy import real, imag\n",
    "#    this_color = line[0].get_color() if color is None else color\n",
    "    ax.plot([real(cx_from),real(cx)], [imag(cx_from),imag(cx)], color, linewidth=width, linestyle=linestyle)\n",
    "    ax.annotate('', xytext=(real(cx_from),imag(cx_from)), xy=(real(cx),imag(cx)),\n",
    "                arrowprops=dict(facecolor=color, edgecolor=color, headlength=10*width, headwidth=6*width, shrink=0.999, width=0))\n",
    "    return"
   ]
  },
  {
   "cell_type": "code",
   "execution_count": null,
   "id": "170e463e-c01f-4582-b162-f2ef23d143ff",
   "metadata": {},
   "outputs": [],
   "source": [
    "def plot_cx_angle_wedge(ax, cx, cx_from=0, r=0.5, color=\"k\"):\n",
    "    from matplotlib.patches import Wedge\n",
    "    from numpy import real, imag, pi, rad2deg, angle\n",
    "    \n",
    "    wedge = Wedge((0, 0), r, angle(cx_from, deg=True), angle(cx, deg=True), ec=\"none\", alpha=0.4)\n",
    "    ax.add_patch(wedge)\n",
    "    return"
   ]
  },
  {
   "cell_type": "code",
   "execution_count": null,
   "id": "81b68ded-ed19-4b91-9a48-a73b8868a1eb",
   "metadata": {},
   "outputs": [],
   "source": [
    "fig6,ax6 = plt.subplots(figsize=(3,3), dpi = 136)\n",
    "\n",
    "cx1=4+2j\n",
    "cx2=-2-3j\n",
    "\n",
    "plot_cx_arrow_xy(ax6, cx1, width=1, color=\"r\")\n",
    "plot_cx_arrow_xy(ax6, cx2, color=\"b\")\n",
    "\n",
    "plot_cx_angle_wedge(ax6, cx2, cx1, r=1)\n",
    "\n",
    "axlim = 3.\n",
    "\n",
    "ax6.set_xlim(-axlim,axlim)\n",
    "ax6.set_ylim(-axlim,axlim)\n",
    "ax6.grid(True)\n",
    "plt.plot()"
   ]
  },
  {
   "cell_type": "code",
   "execution_count": null,
   "id": "04973f47-2dfa-432a-a179-873bf8a0d9e0",
   "metadata": {},
   "outputs": [],
   "source": []
  },
  {
   "cell_type": "code",
   "execution_count": null,
   "id": "6d34d18d-eecf-4e1c-91a7-83b2cad9677e",
   "metadata": {},
   "outputs": [],
   "source": []
  },
  {
   "cell_type": "code",
   "execution_count": null,
   "id": "c57e687c-71d0-452f-a352-3f2c99755f99",
   "metadata": {},
   "outputs": [],
   "source": [
    "fig7,(ax71, ax72) = plt.subplots(1,2,figsize=(16,4), width_ratios=[1, 2.5])\n",
    "ax71.set_aspect('equal', 'box')\n",
    "#ax71.set_aspect('equal')\n",
    "\n",
    "cx1=4.+2.j\n",
    "cx2=-2.-3.j\n",
    "\n",
    "cx1r=real(cx1)\n",
    "\n",
    "plot_cx_arrow_xy(ax71, cx1, width=1, color=\"r\")\n",
    "plot_cx_arrow_xy(ax71, real(cx1), color=\"r\", linestyle=\"--\")\n",
    "\n",
    "plot_cx_arrow_xy(ax71, cx2, color=\"b\")\n",
    "plot_cx_arrow_xy(ax71, real(cx2), color=\"b\", linestyle=\"--\")\n",
    "\n",
    "#plot_cx_angle_wedge(ax71, cx2, cx1, r=1)\n",
    "plot_cx_angle_wedge(ax71, cx1, r=1)\n",
    "\n",
    "axlim = 5\n",
    "ax71.set_xlim(-axlim,axlim)\n",
    "ax71.set_ylim(-axlim,axlim)\n",
    "\n",
    "ax71.grid(True)\n",
    "\n",
    "plt.plot()"
   ]
  },
  {
   "cell_type": "code",
   "execution_count": null,
   "id": "2c6a42aa-f5d2-40bf-9b6e-77c0f99c49a4",
   "metadata": {},
   "outputs": [],
   "source": []
  },
  {
   "cell_type": "code",
   "execution_count": null,
   "id": "893e8148-2317-4acb-b4da-ecb1475b8553",
   "metadata": {},
   "outputs": [],
   "source": []
  },
  {
   "cell_type": "code",
   "execution_count": null,
   "id": "e5847209-7ef5-4221-9a14-871404112e89",
   "metadata": {
    "tags": []
   },
   "outputs": [],
   "source": [
    "fig3,ax3 = plt.subplots(figsize=(4,4), dpi = 136)\n",
    "#ax3.plot(real(z), imag(z), \".\")\n",
    "ax3.plot([o,real(z)], [o,imag(z)], \".-\")\n",
    "ax3.grid(True)\n",
    "plt.plot()"
   ]
  },
  {
   "cell_type": "code",
   "execution_count": null,
   "id": "b3d4a169-ef76-4693-9841-8b504447553d",
   "metadata": {},
   "outputs": [],
   "source": [
    "def plot_polar_vector(c, label=None, color=None, start=0, linestyle='-'):\n",
    "    # plot line in polar plane\n",
    "    line = plt.polar([np.angle(start), np.angle(c)], [np.abs(start), np.abs(c)], label=label, \n",
    "                     color=color, linestyle=linestyle)\n",
    "    # plot arrow in same color\n",
    "    this_color = line[0].get_color() if color is None else color\n",
    "    plt.annotate('', xytext=(np.angle(start), np.abs(start)), xy=(np.angle(c), np.abs(c)),\n",
    "                 arrowprops=dict(facecolor=this_color, edgecolor='none', \n",
    "                                 headlength=12, headwidth=10, shrink=1, width=0))"
   ]
  },
  {
   "cell_type": "code",
   "execution_count": null,
   "id": "24f68635-b65e-464d-8e26-41a5fcddd33a",
   "metadata": {},
   "outputs": [],
   "source": []
  },
  {
   "cell_type": "code",
   "execution_count": null,
   "id": "042fd287-66a5-44de-b31e-3c33b112f98a",
   "metadata": {},
   "outputs": [],
   "source": [
    "#head_width=0.05, fc=color, ec=color, overhang=0.3, length_includes_head=True    \n",
    "    \n",
    "c_abs = 1.5\n",
    "c_angle = 45  # in degree\n",
    "c_angle_rad = np.deg2rad(c_angle) \n",
    "a = c_abs * np.cos(c_angle_rad)\n",
    "b = c_abs * np.sin(c_angle_rad)\n",
    "c1 = a + b*1j    \n",
    "c2 = -0.5 + 0.75*1j\n",
    "\n",
    "plt.figure(figsize=(6, 6))\n",
    "plot_polar_vector(c1, label='$c_1$', color='k')\n",
    "plot_polar_vector(np.conj(c1), label='$\\overline{c}_1$', color='gray')\n",
    "plot_polar_vector(c2, label='$c_2$', color='b')\n",
    "plot_polar_vector(c1*c2, label='$c_1\\cdot c_2$', color='r')\n",
    "plot_polar_vector(c1/c2, label='$c_1/c_2$', color='g')\n",
    "\n",
    "plot_polar_vector(c1, label=None, color=None, start=0+1j, linestyle='-')\n",
    "\n",
    "plt.ylim([0, 1.8]);"
   ]
  },
  {
   "cell_type": "code",
   "execution_count": null,
   "id": "bab9ce10-0e3a-4822-8b19-9c8b8f27c5bb",
   "metadata": {},
   "outputs": [],
   "source": [
    "from ipywidgets.widgets import Label, FloatProgress, FloatSlider, Button, Dropdown\n",
    "from ipywidgets.widgets import Layout, HBox, VBox\n",
    "from IPython.display import display"
   ]
  },
  {
   "cell_type": "code",
   "execution_count": null,
   "id": "65969845-c0db-4c58-8f5f-d29f18ed101c",
   "metadata": {},
   "outputs": [],
   "source": []
  },
  {
   "cell_type": "markdown",
   "id": "b84f9ecd-b368-4057-a84b-cbfa187b4a28",
   "metadata": {},
   "source": [
    "## Time Varying Angles"
   ]
  },
  {
   "cell_type": "code",
   "execution_count": null,
   "id": "9a0d5bbd-6aaa-477e-9783-9ed1e70420fb",
   "metadata": {},
   "outputs": [],
   "source": [
    "t = np.arange(0,5.00001, 0.1)"
   ]
  },
  {
   "cell_type": "code",
   "execution_count": null,
   "id": "20dd9beb-c581-4291-8e57-e9c9090b026d",
   "metadata": {},
   "outputs": [],
   "source": [
    "f = 2. # frequency, cycles per second\n",
    "omega = 2*pi*f #  ang. freq., how many 2*pi per second\n",
    "phi = omega*t # time varying angle"
   ]
  },
  {
   "cell_type": "code",
   "execution_count": null,
   "id": "1f2a4242-6f84-4ece-a36b-1a068b1594a3",
   "metadata": {},
   "outputs": [],
   "source": [
    "fig4, ax4 = plt.subplots(figsize=(6,4), dpi = 136)\n",
    "ax4.plot(t, phi/(2*pi), \".\")\n",
    "ax4.set_xlabel(\"time $t$ in s\")\n",
    "ax4.set_ylabel(\"number of cycles\")\n",
    "ax4.grid(True)\n",
    "plt.plot()"
   ]
  },
  {
   "cell_type": "markdown",
   "id": "feac132a-eccd-411d-a08d-8211c6dfda00",
   "metadata": {},
   "source": [
    "## STUFF"
   ]
  },
  {
   "cell_type": "code",
   "execution_count": null,
   "id": "9da16db5-c723-4d52-8093-77f4e4845a91",
   "metadata": {},
   "outputs": [],
   "source": [
    "XC = fXC(C,omega)\n",
    "VC = fVC(t,V0,omega)\n",
    "IC = VC/XC"
   ]
  },
  {
   "cell_type": "code",
   "execution_count": null,
   "id": "2ab5388c-54d4-4d89-9128-78c130bcf4c1",
   "metadata": {},
   "outputs": [],
   "source": [
    "# XC = 1/(1j*omega*C)\n",
    "# VC = fVC(t,V0,omega)\n",
    "# IC = VC/XC\n",
    "# #print(f\"Ic:\\n{Ic}\")\n",
    "# #print(f\"Vc:\\n{Vc}\")"
   ]
  },
  {
   "cell_type": "code",
   "execution_count": null,
   "id": "7a9062f8-409b-44c1-b41e-9849a86e458b",
   "metadata": {},
   "outputs": [],
   "source": [
    "fig8, ax8 = plt.subplots(figsize=(12,4), dpi = 136)\n",
    "ax8.plot(t, real(VC), \"-\", label = r\"$V_C(t)$\")\n",
    "ax8.plot(t, real(10*IC), \"-\", label = r\"10*$I_C(t)$\")\n",
    "ax8.legend() \n",
    "ax8.set_xlabel(r\"$t$ / s\")\n",
    "ax8.set_ylabel(r\"amplitude\")\n",
    "ax8.set_title(\"AC Voltage and Current in a Pure Capacitor\")\n",
    "#ax5.set_xlim(0,4)\n",
    "#ax5.set_ylim(-2,2)\n",
    "ax8.grid(True)\n",
    "#fig8.savefig(\"oscillations.png\")\n",
    "plt.plot()"
   ]
  },
  {
   "cell_type": "code",
   "execution_count": null,
   "id": "4a2980f7-6451-47cc-98d6-0258f43a8559",
   "metadata": {},
   "outputs": [],
   "source": [
    "fig8, ax8 = plt.subplots(figsize=(12,4), dpi = 136)\n",
    "\n",
    "ax8.plot(t, real(VC), \"-\", color = \"tab:blue\", label = r\"$Voltage V_C(t)$\")\n",
    "ax8.set_xlabel(r\"$t$ / s\")\n",
    "ax8.set_ylabel(r\"Voltage $V_C$ in V\")\n",
    "\n",
    "ax8I=ax8.twinx()\n",
    "#ax8I.plot(t, real(0.1*IC), \"-\", label = r\"0.1*$I_C(t)$\")\n",
    "ax8I.plot(t, real(IC), \"-\", color = \"tab:orange\", label = r\"Current $I_C(t)$\")\n",
    "ax8I.set_ylabel(\"Current $I_C$ in A\")\n",
    "\n",
    "ax8.legend() \n",
    "ax8I.legend() \n",
    "\n",
    "ax8.set_title(\"AC Voltage and Current in a Pure Capacitor: $\\omega = 2\\pi / \\mathrm{s}$, $C = 1\\,\\mathrm{F}$, $V_0 = 1\\,\\mathrm{V}$\")\n",
    "\n",
    "ax8.grid(True, color=\"tab:blue\", linestyle = \"-\")\n",
    "ax8I.grid(True, color=\"tab:orange\", linestyle = \"-.\")\n",
    "\n",
    "#ax5.set_xlim(0,4)\n",
    "#ax5.set_ylim(-2,2)\n",
    "#fig8.savefig(\"oscillations.png\")\n",
    "plt.plot()"
   ]
  }
 ],
 "metadata": {
  "kernelspec": {
   "display_name": "Python 3 (ipykernel)",
   "language": "python",
   "name": "python3"
  },
  "language_info": {
   "codemirror_mode": {
    "name": "ipython",
    "version": 3
   },
   "file_extension": ".py",
   "mimetype": "text/x-python",
   "name": "python",
   "nbconvert_exporter": "python",
   "pygments_lexer": "ipython3",
   "version": "3.9.13"
  }
 },
 "nbformat": 4,
 "nbformat_minor": 5
}
